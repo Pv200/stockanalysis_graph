{
 "cells": [
  {
   "cell_type": "code",
   "execution_count": 1,
   "id": "4f31c2d3-7ce5-449b-9729-7ad5a0e9c71d",
   "metadata": {},
   "outputs": [
    {
     "data": {
      "application/vnd.jupyter.widget-view+json": {
       "model_id": "aa19ac3934d24be7acb7259bea97bfea",
       "version_major": 2,
       "version_minor": 0
      },
      "text/plain": [
       "interactive(children=(Text(value='GOOG', description='bw'), Output()), _dom_classes=('widget-interact',))"
      ]
     },
     "metadata": {},
     "output_type": "display_data"
    },
    {
     "data": {
      "text/plain": [
       "<function __main__.stockChart(bw)>"
      ]
     },
     "execution_count": 1,
     "metadata": {},
     "output_type": "execute_result"
    }
   ],
   "source": [
    "import yfinance as yf\n",
    "import ipywidgets as widgets\n",
    "def stockChart(bw):\n",
    "    start_date =\"2021-12-24\"\n",
    "    end_date = \"2022-12-31\"\n",
    "    df = yf.download(bw, start=start_date, end=end_date)\n",
    "    import matplotlib.pyplot as plt\n",
    "    plt.figure(figsize=(20, 6))\n",
    "    plt.plot(df.index, df['Open'], label='Opening Price', color='red')\n",
    "    plt.plot(df.index, df['Close'], label='Closing Price', color='green')\n",
    "    plt.plot(df.index, df['High'], label='High Price', color='blue')\n",
    "    plt.plot(df.index, df['Low'], label='Low Price', color='yellow')\n",
    "    \n",
    "    plt.title(bw+' Stock analysis in 2022')\n",
    "    plt.xlabel('Date')\n",
    "    plt.ylabel('Price')\n",
    "    plt.legend()\n",
    "    plt.show()\n",
    "widgets.interact(stockChart,bw=\"GOOG\")"
   ]
  },
  {
   "cell_type": "code",
   "execution_count": null,
   "id": "b34bd4b8-20e6-485a-934c-f19c154a6385",
   "metadata": {},
   "outputs": [],
   "source": []
  }
 ],
 "metadata": {
  "kernelspec": {
   "display_name": "Python 3 (ipykernel)",
   "language": "python",
   "name": "python3"
  },
  "language_info": {
   "codemirror_mode": {
    "name": "ipython",
    "version": 3
   },
   "file_extension": ".py",
   "mimetype": "text/x-python",
   "name": "python",
   "nbconvert_exporter": "python",
   "pygments_lexer": "ipython3",
   "version": "3.11.3"
  }
 },
 "nbformat": 4,
 "nbformat_minor": 5
}
